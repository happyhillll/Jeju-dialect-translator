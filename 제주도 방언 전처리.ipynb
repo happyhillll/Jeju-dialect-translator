{
 "cells": [
  {
   "cell_type": "code",
   "execution_count": 1,
   "metadata": {},
   "outputs": [
    {
     "name": "stdout",
     "output_type": "stream",
     "text": [
      "['/Users/minjikim/Desktop/2021년 하반기 민지 휴학/하울스/제주도 방언 /training/[라벨]제주도_학습용데이터_1 (1)/DZHF20002969.json', '/Users/minjikim/Desktop/2021년 하반기 민지 휴학/하울스/제주도 방언 /training/[라벨]제주도_학습용데이터_1 (1)/DZHF20000954.json', '/Users/minjikim/Desktop/2021년 하반기 민지 휴학/하울스/제주도 방언 /training/[라벨]제주도_학습용데이터_1 (1)/DZJD21001992.json', '/Users/minjikim/Desktop/2021년 하반기 민지 휴학/하울스/제주도 방언 /training/[라벨]제주도_학습용데이터_1 (1)/DZJD20000781.json', '/Users/minjikim/Desktop/2021년 하반기 민지 휴학/하울스/제주도 방언 /training/[라벨]제주도_학습용데이터_1 (1)/DZHF20002590.json']\n",
      "파일 개수: 5042\n"
     ]
    }
   ],
   "source": [
    "#문서 path 추출\n",
    "import pandas as pd\n",
    "import os\n",
    "import re\n",
    "import json\n",
    "import numpy as np\n",
    "\n",
    "filenames = []\n",
    "directory = '/Users/minjikim/Desktop/2021년 하반기 민지 휴학/하울스/제주도 방언 /training/[라벨]제주도_학습용데이터_1 (1)'\n",
    "for filename in os.listdir(directory):\n",
    "    #filename이 .json으로 끝나면\n",
    "    if filename.endswith(\".json\"):\n",
    "        #f 생성\n",
    "        f = directory + '/' + filename\n",
    "        #비어있는 filenames에 append\n",
    "        filenames.append(f)\n",
    "\n",
    "print(filenames[:5])\n",
    "print(\"파일 개수:\", len(filenames))"
   ]
  },
  {
   "cell_type": "code",
   "execution_count": 2,
   "metadata": {},
   "outputs": [],
   "source": [
    "#방언, 표준어 추출\n",
    "standard= []\n",
    "dialect = []\n",
    "for file in filenames:\n",
    "    with open(file, \"r\", encoding = 'utf8') as f:\n",
    "        contents = f.read() #string type 파일 내용 전체를 문자열로\n",
    "        json_data = json.loads(contents)\n",
    "        doc = json_data[\"utterance\"]\n",
    "        for d in doc:\n",
    "            standard.append(d['standard_form'])\n",
    "            dialect.append(d['dialect_form'])"
   ]
  },
  {
   "cell_type": "code",
   "execution_count": 6,
   "metadata": {},
   "outputs": [
    {
     "name": "stdout",
     "output_type": "stream",
     "text": [
      "['왜냐하면 이만한 그', '-이만- 이만한 크기.', '응.', '제사 때 쓰는 거.', '아니 게메 저 차판 자체가 쓸 일이 많지가 않을 거 같아 #이 거기서 #이 왜냐하면']\n",
      "['왜냐하면 이만한 그', '-이만- 이만한 크기.', '응.', '제사 때 쓰는 거.', '아니 게메 저 차판 자체가 쓸 일이 하지가 않을 거 닮아 이 거기서 이 왜냐하면']\n",
      "2774257\n",
      "2774257\n"
     ]
    }
   ],
   "source": [
    "print(standard[:5])\n",
    "print(dialect[:5])\n",
    "print(len(standard))\n",
    "print(len(dialect))"
   ]
  },
  {
   "cell_type": "code",
   "execution_count": 7,
   "metadata": {},
   "outputs": [],
   "source": [
    "#dataframe\n",
    "train = pd.DataFrame({'standard': standard, 'dialect': dialect})"
   ]
  },
  {
   "cell_type": "code",
   "execution_count": 8,
   "metadata": {},
   "outputs": [
    {
     "data": {
      "text/html": [
       "<div>\n",
       "<style scoped>\n",
       "    .dataframe tbody tr th:only-of-type {\n",
       "        vertical-align: middle;\n",
       "    }\n",
       "\n",
       "    .dataframe tbody tr th {\n",
       "        vertical-align: top;\n",
       "    }\n",
       "\n",
       "    .dataframe thead th {\n",
       "        text-align: right;\n",
       "    }\n",
       "</style>\n",
       "<table border=\"1\" class=\"dataframe\">\n",
       "  <thead>\n",
       "    <tr style=\"text-align: right;\">\n",
       "      <th></th>\n",
       "      <th>standard</th>\n",
       "      <th>dialect</th>\n",
       "    </tr>\n",
       "  </thead>\n",
       "  <tbody>\n",
       "    <tr>\n",
       "      <th>0</th>\n",
       "      <td>왜냐하면 이만한 그</td>\n",
       "      <td>왜냐하면 이만한 그</td>\n",
       "    </tr>\n",
       "    <tr>\n",
       "      <th>1</th>\n",
       "      <td>-이만- 이만한 크기.</td>\n",
       "      <td>-이만- 이만한 크기.</td>\n",
       "    </tr>\n",
       "    <tr>\n",
       "      <th>2</th>\n",
       "      <td>응.</td>\n",
       "      <td>응.</td>\n",
       "    </tr>\n",
       "    <tr>\n",
       "      <th>3</th>\n",
       "      <td>제사 때 쓰는 거.</td>\n",
       "      <td>제사 때 쓰는 거.</td>\n",
       "    </tr>\n",
       "    <tr>\n",
       "      <th>4</th>\n",
       "      <td>아니 게메 저 차판 자체가 쓸 일이 많지가 않을 거 같아 #이 거기서 #이 왜냐하면</td>\n",
       "      <td>아니 게메 저 차판 자체가 쓸 일이 하지가 않을 거 닮아 이 거기서 이 왜냐하면</td>\n",
       "    </tr>\n",
       "  </tbody>\n",
       "</table>\n",
       "</div>"
      ],
      "text/plain": [
       "                                         standard  \\\n",
       "0                                      왜냐하면 이만한 그   \n",
       "1                                    -이만- 이만한 크기.   \n",
       "2                                              응.   \n",
       "3                                      제사 때 쓰는 거.   \n",
       "4  아니 게메 저 차판 자체가 쓸 일이 많지가 않을 거 같아 #이 거기서 #이 왜냐하면   \n",
       "\n",
       "                                        dialect  \n",
       "0                                    왜냐하면 이만한 그  \n",
       "1                                  -이만- 이만한 크기.  \n",
       "2                                            응.  \n",
       "3                                    제사 때 쓰는 거.  \n",
       "4  아니 게메 저 차판 자체가 쓸 일이 하지가 않을 거 닮아 이 거기서 이 왜냐하면  "
      ]
     },
     "execution_count": 8,
     "metadata": {},
     "output_type": "execute_result"
    }
   ],
   "source": [
    "train[:5]"
   ]
  },
  {
   "cell_type": "code",
   "execution_count": null,
   "metadata": {},
   "outputs": [],
   "source": [
    "'''\n",
    "전처리하면서 살펴봐야 하는 목록\n",
    "1) {laughing}, {cleaning} 등의 비언어적 표현\n",
    "2) (이)/(#이) 와 같은 표현은 아예 삭제해도 문제 없는 듯함 \n",
    "3) 2774255에서 보는 바와 같이 (방언 전사 형태)/(표준어 대응쌍 형태)로 구성 되어 있음 \n",
    "4) 정보 비식별화를 위해 &name&, &address& 등으로 되어 있음\n",
    "5) 아래아는 아*  형태로 되어 있음\n",
    "6) (()), ((x)), ((xxxx)) 등의 형태 \n",
    "'''"
   ]
  },
  {
   "cell_type": "code",
   "execution_count": 10,
   "metadata": {},
   "outputs": [],
   "source": [
    "# Dialect_form\n",
    "# 1번 2번 삭제\n",
    "pre_s = []\n",
    "for sentence in standard:\n",
    "    sentence_new = re.sub(r'\\{.+\\}', '', sentence) #{laughing}, {clearing} 삭제 \n",
    "    sentence_new = re.sub('\\(이\\)/\\(#이\\)', '', sentence_new) # (이)/(#이) 삭제\n",
    "    pre_s.append(sentence_new)"
   ]
  },
  {
   "cell_type": "code",
   "execution_count": 11,
   "metadata": {},
   "outputs": [],
   "source": [
    "# standard는 두 번째 그룹 선택 \n",
    "pre_standard = []\n",
    "for snts in pre_s:  #(방언)/(표준어)형태의 문장이 있을 경우 (표준어)를 선택하도록 함\n",
    "    if re.search('(\\([\\s]?[가-힣]+[\\.\\?\\s\\*]?\\))/(\\([\\s#]?[가-힣]+[\\.\\?\\s\\*]?\\))', snts):\n",
    "        m = re.search('(\\([\\s]?[가-힣]+[\\.\\?\\s\\*]?\\))/(\\([\\s#]?[가-힣]+[\\.\\?\\s\\*]?\\))', snts)\n",
    "        #snts에서 (방언)/(표준어)를 찾고 이를 group(1), group(2)로 보는 것 \n",
    "        replace_str = re.sub('[()]','',m.group(2)) #(표준어)를 표준어로 바꾸는 작업\n",
    "        sentence_new = re.sub('(\\([\\s]?[가-힣]+[\\.\\?\\s\\*]?\\))/(\\([\\s#]?[가-힣]+[\\.\\?\\s\\*]?\\))', replace_str, snts)\n",
    "        \n",
    "        pre_standard.append(sentence_new)\n",
    "    \n",
    "    else: #(방언)/(표준어) 형태의 expression이 없을 때는 원래의 문장을 바로 pre_standard에 append\n",
    "        pre_standard.append(snts) "
   ]
  },
  {
   "cell_type": "code",
   "execution_count": null,
   "metadata": {},
   "outputs": [],
   "source": []
  }
 ],
 "metadata": {
  "interpreter": {
   "hash": "aee8b7b246df8f9039afb4144a1f6fd8d2ca17a180786b69acc140d282b71a49"
  },
  "kernelspec": {
   "display_name": "Python 3 (ipykernel)",
   "language": "python",
   "name": "python3"
  },
  "language_info": {
   "codemirror_mode": {
    "name": "ipython",
    "version": 3
   },
   "file_extension": ".py",
   "mimetype": "text/x-python",
   "name": "python",
   "nbconvert_exporter": "python",
   "pygments_lexer": "ipython3",
   "version": "3.10.0b3"
  }
 },
 "nbformat": 4,
 "nbformat_minor": 2
}
