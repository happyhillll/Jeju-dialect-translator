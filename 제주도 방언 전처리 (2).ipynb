{
 "cells": [
  {
   "cell_type": "code",
   "execution_count": 1,
   "metadata": {},
   "outputs": [
    {
     "name": "stdout",
     "output_type": "stream",
     "text": [
      "['/Users/minjikim/Desktop/2021년 하반기 민지 휴학/하울스/제주도 방언 /training/[라벨]제주도_학습용데이터_1 (1)/DZHF20002969.json', '/Users/minjikim/Desktop/2021년 하반기 민지 휴학/하울스/제주도 방언 /training/[라벨]제주도_학습용데이터_1 (1)/DZHF20000954.json', '/Users/minjikim/Desktop/2021년 하반기 민지 휴학/하울스/제주도 방언 /training/[라벨]제주도_학습용데이터_1 (1)/DZJD21001992.json', '/Users/minjikim/Desktop/2021년 하반기 민지 휴학/하울스/제주도 방언 /training/[라벨]제주도_학습용데이터_1 (1)/DZJD20000781.json', '/Users/minjikim/Desktop/2021년 하반기 민지 휴학/하울스/제주도 방언 /training/[라벨]제주도_학습용데이터_1 (1)/DZHF20002590.json']\n",
      "파일 개수: 5042\n"
     ]
    }
   ],
   "source": [
    "#문서 path 추출\n",
    "import pandas as pd\n",
    "import os\n",
    "import re\n",
    "import json\n",
    "import numpy as np\n",
    "\n",
    "filenames = []\n",
    "directory = '/Users/minjikim/Desktop/2021년 하반기 민지 휴학/하울스/제주도 방언 /training/[라벨]제주도_학습용데이터_1 (1)'\n",
    "for filename in os.listdir(directory):\n",
    "    #filename이 .json으로 끝나면\n",
    "    if filename.endswith(\".json\"):\n",
    "        #f 생성\n",
    "        f = directory + '/' + filename\n",
    "        #비어있는 filenames에 append\n",
    "        filenames.append(f)\n",
    "\n",
    "print(filenames[:5])\n",
    "print(\"파일 개수:\", len(filenames))"
   ]
  },
  {
   "cell_type": "code",
   "execution_count": 2,
   "metadata": {},
   "outputs": [],
   "source": [
    "#방언, 표준어 추출\n",
    "standard= []\n",
    "dialect = []\n",
    "for file in filenames:\n",
    "    with open(file, \"r\", encoding = 'utf8') as f:\n",
    "        contents = f.read() #string type 파일 내용 전체를 문자열로\n",
    "        json_data = json.loads(contents)\n",
    "        doc = json_data[\"utterance\"]\n",
    "        for d in doc:\n",
    "            standard.append(d['standard_form'])\n",
    "            dialect.append(d['dialect_form'])"
   ]
  },
  {
   "cell_type": "code",
   "execution_count": 3,
   "metadata": {},
   "outputs": [
    {
     "name": "stdout",
     "output_type": "stream",
     "text": [
      "['왜냐하면 이만한 그', '-이만- 이만한 크기.', '응.', '제사 때 쓰는 거.', '아니 게메 저 차판 자체가 쓸 일이 많지가 않을 거 같아 #이 거기서 #이 왜냐하면']\n",
      "['왜냐하면 이만한 그', '-이만- 이만한 크기.', '응.', '제사 때 쓰는 거.', '아니 게메 저 차판 자체가 쓸 일이 하지가 않을 거 닮아 이 거기서 이 왜냐하면']\n",
      "2774257\n",
      "2774257\n"
     ]
    }
   ],
   "source": [
    "print(standard[:5])\n",
    "print(dialect[:5])\n",
    "print(len(standard))\n",
    "print(len(dialect))"
   ]
  },
  {
   "cell_type": "code",
   "execution_count": 4,
   "metadata": {},
   "outputs": [],
   "source": [
    "#dataframe\n",
    "train = pd.DataFrame({'standard': standard, 'dialect': dialect})"
   ]
  },
  {
   "cell_type": "code",
   "execution_count": 5,
   "metadata": {},
   "outputs": [
    {
     "data": {
      "text/html": [
       "<div>\n",
       "<style scoped>\n",
       "    .dataframe tbody tr th:only-of-type {\n",
       "        vertical-align: middle;\n",
       "    }\n",
       "\n",
       "    .dataframe tbody tr th {\n",
       "        vertical-align: top;\n",
       "    }\n",
       "\n",
       "    .dataframe thead th {\n",
       "        text-align: right;\n",
       "    }\n",
       "</style>\n",
       "<table border=\"1\" class=\"dataframe\">\n",
       "  <thead>\n",
       "    <tr style=\"text-align: right;\">\n",
       "      <th></th>\n",
       "      <th>standard</th>\n",
       "      <th>dialect</th>\n",
       "    </tr>\n",
       "  </thead>\n",
       "  <tbody>\n",
       "    <tr>\n",
       "      <th>0</th>\n",
       "      <td>왜냐하면 이만한 그</td>\n",
       "      <td>왜냐하면 이만한 그</td>\n",
       "    </tr>\n",
       "    <tr>\n",
       "      <th>1</th>\n",
       "      <td>-이만- 이만한 크기.</td>\n",
       "      <td>-이만- 이만한 크기.</td>\n",
       "    </tr>\n",
       "    <tr>\n",
       "      <th>2</th>\n",
       "      <td>응.</td>\n",
       "      <td>응.</td>\n",
       "    </tr>\n",
       "    <tr>\n",
       "      <th>3</th>\n",
       "      <td>제사 때 쓰는 거.</td>\n",
       "      <td>제사 때 쓰는 거.</td>\n",
       "    </tr>\n",
       "    <tr>\n",
       "      <th>4</th>\n",
       "      <td>아니 게메 저 차판 자체가 쓸 일이 많지가 않을 거 같아 #이 거기서 #이 왜냐하면</td>\n",
       "      <td>아니 게메 저 차판 자체가 쓸 일이 하지가 않을 거 닮아 이 거기서 이 왜냐하면</td>\n",
       "    </tr>\n",
       "  </tbody>\n",
       "</table>\n",
       "</div>"
      ],
      "text/plain": [
       "                                         standard  \\\n",
       "0                                      왜냐하면 이만한 그   \n",
       "1                                    -이만- 이만한 크기.   \n",
       "2                                              응.   \n",
       "3                                      제사 때 쓰는 거.   \n",
       "4  아니 게메 저 차판 자체가 쓸 일이 많지가 않을 거 같아 #이 거기서 #이 왜냐하면   \n",
       "\n",
       "                                        dialect  \n",
       "0                                    왜냐하면 이만한 그  \n",
       "1                                  -이만- 이만한 크기.  \n",
       "2                                            응.  \n",
       "3                                    제사 때 쓰는 거.  \n",
       "4  아니 게메 저 차판 자체가 쓸 일이 하지가 않을 거 닮아 이 거기서 이 왜냐하면  "
      ]
     },
     "execution_count": 5,
     "metadata": {},
     "output_type": "execute_result"
    }
   ],
   "source": [
    "train[:5]"
   ]
  },
  {
   "cell_type": "code",
   "execution_count": 6,
   "metadata": {},
   "outputs": [
    {
     "name": "stdout",
     "output_type": "stream",
     "text": [
      "2774257\n"
     ]
    }
   ],
   "source": [
    "print(len(standard))"
   ]
  },
  {
   "cell_type": "code",
   "execution_count": 7,
   "metadata": {},
   "outputs": [
    {
     "data": {
      "text/plain": [
       "'\\n전처리하면서 살펴봐야 하는 목록\\n1) {laughing}, {cleaning} 등의 비언어적 표현\\n2) (이)/(#이) 와 같은 표현은 아예 삭제해도 문제 없는 듯함 \\n3) 2774255에서 보는 바와 같이 (방언 전사 형태)/(표준어 대응쌍 형태)로 구성 되어 있음 \\n4) 정보 비식별화를 위해 &name&, &address& 등으로 되어 있음\\n5) 아래아는 아*  형태로 되어 있음\\n6) (()), ((x)), ((xxxx)) 등의 형태 \\n'"
      ]
     },
     "execution_count": 7,
     "metadata": {},
     "output_type": "execute_result"
    }
   ],
   "source": [
    "'''\n",
    "전처리하면서 살펴봐야 하는 목록\n",
    "1) {laughing}, {cleaning} 등의 비언어적 표현\n",
    "2) (이)/(#이) 와 같은 표현은 아예 삭제해도 문제 없는 듯함 \n",
    "3) 2774255에서 보는 바와 같이 (방언 전사 형태)/(표준어 대응쌍 형태)로 구성 되어 있음 \n",
    "4) 정보 비식별화를 위해 &name&, &address& 등으로 되어 있음\n",
    "5) 아래아는 아*  형태로 되어 있음\n",
    "6) (()), ((x)), ((xxxx)) 등의 형태 \n",
    "'''"
   ]
  },
  {
   "cell_type": "code",
   "execution_count": 8,
   "metadata": {},
   "outputs": [],
   "source": [
    "# Standard_form\n",
    "# 1번 2번 삭제\n",
    "pre_s = []\n",
    "for sentence in standard:\n",
    "    sentence_new = re.sub(r'\\{.+\\}', '', sentence) #{laughing}, {clearing} 삭제 \n",
    "    sentence_new = re.sub('\\(이\\)/\\(#이\\)', '', sentence_new) # (이)/(#이) 삭제\n",
    "    pre_s.append(sentence_new)"
   ]
  },
  {
   "cell_type": "code",
   "execution_count": 9,
   "metadata": {},
   "outputs": [],
   "source": [
    "# standard는 두 번째 그룹 선택 \n",
    "pre_standard = []\n",
    "for snts in pre_s:  #(방언)/(표준어)형태의 문장이 있을 경우 (표준어)를 선택하도록 함\n",
    "    if re.search('(\\([\\s]?[가-힣]+[\\.\\?\\s\\*]?\\))/(\\([\\s#]?[가-힣]+[\\.\\?\\s\\*]?\\))', snts):\n",
    "        m = re.search('(\\([\\s]?[가-힣]+[\\.\\?\\s\\*]?\\))/(\\([\\s#]?[가-힣]+[\\.\\?\\s\\*]?\\))', snts)\n",
    "        #snts에서 (방언)/(표준어)를 찾고 이를 group(1), group(2)로 보는 것 \n",
    "        replace_str = re.sub('[()]','',m.group(2)) #(표준어)를 표준어로 바꾸는 작업\n",
    "        sentence_new = re.sub('(\\([\\s]?[가-힣]+[\\.\\?\\s\\*]?\\))/(\\([\\s#]?[가-힣]+[\\.\\?\\s\\*]?\\))', replace_str, snts)\n",
    "        \n",
    "        pre_standard.append(sentence_new)\n",
    "    \n",
    "    else: #(방언)/(표준어) 형태의 expression이 없을 때는 원래의 문장을 바로 pre_standard에 append\n",
    "        pre_standard.append(snts) "
   ]
  },
  {
   "cell_type": "code",
   "execution_count": 10,
   "metadata": {},
   "outputs": [],
   "source": [
    "# Dialect_form\n",
    "# 1번 2번 삭제\n",
    "pre_d = []\n",
    "for sentence in dialect:\n",
    "    sentence_new = re.sub(r'\\{.+\\}', '', sentence) #{laughing}, {clearing} 삭제 \n",
    "    sentence_new = re.sub('\\(이\\)/\\(#이\\)', '', sentence_new) # (이)/(#이) 삭제\n",
    "    pre_d.append(sentence_new)"
   ]
  },
  {
   "cell_type": "code",
   "execution_count": 11,
   "metadata": {},
   "outputs": [],
   "source": [
    "# dialect는 첫 번째 그룹 선택 \n",
    "pre_dialect = []\n",
    "for snts in pre_d:  #(방언)/(표준어)형태의 문장이 있을 경우 (방언)을 선택하도록 함\n",
    "    if re.search('(\\([\\s]?[가-힣]+[\\.\\?\\s\\*]?\\))/(\\([\\s#]?[가-힣]+[\\.\\?\\s\\*]?\\))', snts):\n",
    "        m = re.search('(\\([\\s]?[가-힣]+[\\.\\?\\s\\*]?\\))/(\\([\\s#]?[가-힣]+[\\.\\?\\s\\*]?\\))', snts)\n",
    "        #snts에서 (방언)/(표준어)를 찾고 이를 group(1), group(2)로 보는 것 \n",
    "        replace_str = re.sub('[()]','',m.group(1)) #(표준어)를 표준어로 바꾸는 작업\n",
    "        sentence_new = re.sub('(\\([\\s]?[가-힣]+[\\.\\?\\s\\*]?\\))/(\\([\\s#]?[가-힣]+[\\.\\?\\s\\*]?\\))', replace_str, snts)\n",
    "        \n",
    "        pre_dialect.append(sentence_new)\n",
    "    \n",
    "    else: #(방언)/(표준어) 형태의 expression이 없을 때는 원래의 문장을 바로 pre_standard에 append\n",
    "        pre_dialect.append(snts) "
   ]
  },
  {
   "cell_type": "code",
   "execution_count": 12,
   "metadata": {},
   "outputs": [
    {
     "name": "stdout",
     "output_type": "stream",
     "text": [
      "2774257\n",
      "2774257\n"
     ]
    }
   ],
   "source": [
    "print(len(pre_s))\n",
    "print(len(pre_d))"
   ]
  },
  {
   "cell_type": "code",
   "execution_count": 13,
   "metadata": {},
   "outputs": [
    {
     "name": "stdout",
     "output_type": "stream",
     "text": [
      "2774257\n",
      "2774257\n"
     ]
    }
   ],
   "source": [
    "print(len(pre_standard))\n",
    "print(len(pre_dialect))"
   ]
  },
  {
   "cell_type": "code",
   "execution_count": 15,
   "metadata": {},
   "outputs": [],
   "source": [
    "preprocessed_train = pd.DataFrame({'standard': pre_standard, 'dialect': pre_dialect})"
   ]
  },
  {
   "cell_type": "code",
   "execution_count": 16,
   "metadata": {},
   "outputs": [
    {
     "data": {
      "text/html": [
       "<div>\n",
       "<style scoped>\n",
       "    .dataframe tbody tr th:only-of-type {\n",
       "        vertical-align: middle;\n",
       "    }\n",
       "\n",
       "    .dataframe tbody tr th {\n",
       "        vertical-align: top;\n",
       "    }\n",
       "\n",
       "    .dataframe thead th {\n",
       "        text-align: right;\n",
       "    }\n",
       "</style>\n",
       "<table border=\"1\" class=\"dataframe\">\n",
       "  <thead>\n",
       "    <tr style=\"text-align: right;\">\n",
       "      <th></th>\n",
       "      <th>standard</th>\n",
       "      <th>dialect</th>\n",
       "    </tr>\n",
       "  </thead>\n",
       "  <tbody>\n",
       "    <tr>\n",
       "      <th>0</th>\n",
       "      <td>왜냐하면 이만한 그</td>\n",
       "      <td>왜냐하면 이만한 그</td>\n",
       "    </tr>\n",
       "    <tr>\n",
       "      <th>1</th>\n",
       "      <td>-이만- 이만한 크기.</td>\n",
       "      <td>-이만- 이만한 크기.</td>\n",
       "    </tr>\n",
       "    <tr>\n",
       "      <th>2</th>\n",
       "      <td>응.</td>\n",
       "      <td>응.</td>\n",
       "    </tr>\n",
       "    <tr>\n",
       "      <th>3</th>\n",
       "      <td>제사 때 쓰는 거.</td>\n",
       "      <td>제사 때 쓰는 거.</td>\n",
       "    </tr>\n",
       "    <tr>\n",
       "      <th>4</th>\n",
       "      <td>아니 게메 저 차판 자체가 쓸 일이 많지가 않을 거 같아 #이 거기서 #이 왜냐하면</td>\n",
       "      <td>아니 게메 저 차판 자체가 쓸 일이 하지가 않을 거 닮아 이 거기서 이 왜냐하면</td>\n",
       "    </tr>\n",
       "    <tr>\n",
       "      <th>...</th>\n",
       "      <td>...</td>\n",
       "      <td>...</td>\n",
       "    </tr>\n",
       "    <tr>\n",
       "      <th>2774252</th>\n",
       "      <td>지금 우리가 시간이 열 한 시 사십 분이 넘었나? 사십 분 되니까</td>\n",
       "      <td>지금 우리가 시간이 열 한 시 사십 분이 넘었나? 사십 분 되난</td>\n",
       "    </tr>\n",
       "    <tr>\n",
       "      <th>2774253</th>\n",
       "      <td>으응 사십분 - 내가 삼십 분에 끝나서 사십 분에 통화 하기로 해 가지고</td>\n",
       "      <td>으응 사십분 - 내가 삼십 분에 끝낭 사십 분에 통화 하기로 해 가지고</td>\n",
       "    </tr>\n",
       "    <tr>\n",
       "      <th>2774254</th>\n",
       "      <td>전화 오는 거 같은데</td>\n",
       "      <td>전화 오는 거 닮은디</td>\n",
       "    </tr>\n",
       "    <tr>\n",
       "      <th>2774255</th>\n",
       "      <td>응~</td>\n",
       "      <td>응~</td>\n",
       "    </tr>\n",
       "    <tr>\n",
       "      <th>2774256</th>\n",
       "      <td>사회자님 중간에 역할 하시는 분 어디가버렸니</td>\n",
       "      <td>사회자님 중간에 역할 하시는 분 어디가부러시니</td>\n",
       "    </tr>\n",
       "  </tbody>\n",
       "</table>\n",
       "<p>2774257 rows × 2 columns</p>\n",
       "</div>"
      ],
      "text/plain": [
       "                                               standard  \\\n",
       "0                                            왜냐하면 이만한 그   \n",
       "1                                          -이만- 이만한 크기.   \n",
       "2                                                    응.   \n",
       "3                                            제사 때 쓰는 거.   \n",
       "4        아니 게메 저 차판 자체가 쓸 일이 많지가 않을 거 같아 #이 거기서 #이 왜냐하면   \n",
       "...                                                 ...   \n",
       "2774252            지금 우리가 시간이 열 한 시 사십 분이 넘었나? 사십 분 되니까   \n",
       "2774253        으응 사십분 - 내가 삼십 분에 끝나서 사십 분에 통화 하기로 해 가지고   \n",
       "2774254                                     전화 오는 거 같은데   \n",
       "2774255                                              응~   \n",
       "2774256                        사회자님 중간에 역할 하시는 분 어디가버렸니   \n",
       "\n",
       "                                              dialect  \n",
       "0                                          왜냐하면 이만한 그  \n",
       "1                                        -이만- 이만한 크기.  \n",
       "2                                                  응.  \n",
       "3                                          제사 때 쓰는 거.  \n",
       "4        아니 게메 저 차판 자체가 쓸 일이 하지가 않을 거 닮아 이 거기서 이 왜냐하면  \n",
       "...                                               ...  \n",
       "2774252           지금 우리가 시간이 열 한 시 사십 분이 넘었나? 사십 분 되난  \n",
       "2774253       으응 사십분 - 내가 삼십 분에 끝낭 사십 분에 통화 하기로 해 가지고  \n",
       "2774254                                   전화 오는 거 닮은디  \n",
       "2774255                                            응~  \n",
       "2774256                     사회자님 중간에 역할 하시는 분 어디가부러시니  \n",
       "\n",
       "[2774257 rows x 2 columns]"
      ]
     },
     "execution_count": 16,
     "metadata": {},
     "output_type": "execute_result"
    }
   ],
   "source": [
    "preprocessed_train"
   ]
  },
  {
   "cell_type": "code",
   "execution_count": 17,
   "metadata": {},
   "outputs": [],
   "source": [
    "preprocessed_train.to_csv(\"jeju_train_prepd.csv\", index = False, encoding = \"utf-8-sig\")"
   ]
  },
  {
   "cell_type": "markdown",
   "metadata": {},
   "source": [
    "validation 전처리"
   ]
  },
  {
   "cell_type": "code",
   "execution_count": 18,
   "metadata": {},
   "outputs": [
    {
     "name": "stdout",
     "output_type": "stream",
     "text": [
      "['/Users/minjikim/Desktop/2021년 하반기 민지 휴학/하울스/제주도 방언 /test/[라벨]제주도_학습용데이터_3 (1)/DZJD21002347.json', '/Users/minjikim/Desktop/2021년 하반기 민지 휴학/하울스/제주도 방언 /test/[라벨]제주도_학습용데이터_3 (1)/DZHF20001216.json', '/Users/minjikim/Desktop/2021년 하반기 민지 휴학/하울스/제주도 방언 /test/[라벨]제주도_학습용데이터_3 (1)/DZJD20000294.json', '/Users/minjikim/Desktop/2021년 하반기 민지 휴학/하울스/제주도 방언 /test/[라벨]제주도_학습용데이터_3 (1)/DZJD20000017.json', '/Users/minjikim/Desktop/2021년 하반기 민지 휴학/하울스/제주도 방언 /test/[라벨]제주도_학습용데이터_3 (1)/DZES20001427.json']\n",
      "파일 개수: 596\n"
     ]
    }
   ],
   "source": [
    "#문서 path 추출\n",
    "import pandas as pd\n",
    "import os\n",
    "import re\n",
    "import json\n",
    "import numpy as np\n",
    "\n",
    "filenames = []\n",
    "directory = '/Users/minjikim/Desktop/2021년 하반기 민지 휴학/하울스/제주도 방언 /test/[라벨]제주도_학습용데이터_3 (1)'\n",
    "for filename in os.listdir(directory):\n",
    "    #filename이 .json으로 끝나면\n",
    "    if filename.endswith(\".json\"):\n",
    "        #f 생성\n",
    "        f = directory + '/' + filename\n",
    "        #비어있는 filenames에 append\n",
    "        filenames.append(f)\n",
    "\n",
    "print(filenames[:5])\n",
    "print(\"파일 개수:\", len(filenames))"
   ]
  },
  {
   "cell_type": "code",
   "execution_count": 19,
   "metadata": {},
   "outputs": [],
   "source": [
    "#방언, 표준어 추출\n",
    "standard= []\n",
    "dialect = []\n",
    "for file in filenames:\n",
    "    with open(file, \"r\", encoding = 'utf8') as f:\n",
    "        contents = f.read() #string type 파일 내용 전체를 문자열로\n",
    "        json_data = json.loads(contents)\n",
    "        doc = json_data[\"utterance\"]\n",
    "        for d in doc:\n",
    "            standard.append(d['standard_form'])\n",
    "            dialect.append(d['dialect_form'])"
   ]
  },
  {
   "cell_type": "code",
   "execution_count": 20,
   "metadata": {},
   "outputs": [],
   "source": [
    "#dataframe\n",
    "train = pd.DataFrame({'standard': standard, 'dialect': dialect})"
   ]
  },
  {
   "cell_type": "code",
   "execution_count": 21,
   "metadata": {},
   "outputs": [],
   "source": [
    "# Standard_form\n",
    "# 1번 2번 삭제\n",
    "pre_s = []\n",
    "for sentence in standard:\n",
    "    sentence_new = re.sub(r'\\{.+\\}', '', sentence) #{laughing}, {clearing} 삭제 \n",
    "    sentence_new = re.sub('\\(이\\)/\\(#이\\)', '', sentence_new) # (이)/(#이) 삭제\n",
    "    pre_s.append(sentence_new)\n",
    "    \n"
   ]
  },
  {
   "cell_type": "code",
   "execution_count": 22,
   "metadata": {},
   "outputs": [],
   "source": [
    "# standard는 두 번째 그룹 선택 \n",
    "pre_standard = []\n",
    "for snts in pre_s:  #(방언)/(표준어)형태의 문장이 있을 경우 (표준어)를 선택하도록 함\n",
    "    if re.search('(\\([\\s]?[가-힣]+[\\.\\?\\s\\*]?\\))/(\\([\\s#]?[가-힣]+[\\.\\?\\s\\*]?\\))', snts):\n",
    "        m = re.search('(\\([\\s]?[가-힣]+[\\.\\?\\s\\*]?\\))/(\\([\\s#]?[가-힣]+[\\.\\?\\s\\*]?\\))', snts)\n",
    "        #snts에서 (방언)/(표준어)를 찾고 이를 group(1), group(2)로 보는 것 \n",
    "        replace_str = re.sub('[()]','',m.group(2)) #(표준어)를 표준어로 바꾸는 작업\n",
    "        sentence_new = re.sub('(\\([\\s]?[가-힣]+[\\.\\?\\s\\*]?\\))/(\\([\\s#]?[가-힣]+[\\.\\?\\s\\*]?\\))', replace_str, snts)\n",
    "        \n",
    "        pre_standard.append(sentence_new)\n",
    "    \n",
    "    else: #(방언)/(표준어) 형태의 expression이 없을 때는 원래의 문장을 바로 pre_standard에 append\n",
    "        pre_standard.append(snts) "
   ]
  },
  {
   "cell_type": "code",
   "execution_count": 23,
   "metadata": {},
   "outputs": [],
   "source": [
    "# Dialect_form\n",
    "# 1번 2번 삭제\n",
    "pre_d = []\n",
    "for sentence in dialect:\n",
    "    sentence_new = re.sub(r'\\{.+\\}', '', sentence) #{laughing}, {clearing} 삭제 \n",
    "    sentence_new = re.sub('\\(이\\)/\\(#이\\)', '', sentence_new) # (이)/(#이) 삭제\n",
    "    pre_d.append(sentence_new)"
   ]
  },
  {
   "cell_type": "code",
   "execution_count": 24,
   "metadata": {},
   "outputs": [],
   "source": [
    "# dialect는 첫 번째 그룹 선택 \n",
    "pre_dialect = []\n",
    "for snts in pre_d:  #(방언)/(표준어)형태의 문장이 있을 경우 (방언)을 선택하도록 함\n",
    "    if re.search('(\\([\\s]?[가-힣]+[\\.\\?\\s\\*]?\\))/(\\([\\s#]?[가-힣]+[\\.\\?\\s\\*]?\\))', snts):\n",
    "        m = re.search('(\\([\\s]?[가-힣]+[\\.\\?\\s\\*]?\\))/(\\([\\s#]?[가-힣]+[\\.\\?\\s\\*]?\\))', snts)\n",
    "        #snts에서 (방언)/(표준어)를 찾고 이를 group(1), group(2)로 보는 것 \n",
    "        replace_str = re.sub('[()]','',m.group(1)) #(표준어)를 표준어로 바꾸는 작업\n",
    "        sentence_new = re.sub('(\\([\\s]?[가-힣]+[\\.\\?\\s\\*]?\\))/(\\([\\s#]?[가-힣]+[\\.\\?\\s\\*]?\\))', replace_str, snts)\n",
    "        \n",
    "        pre_dialect.append(sentence_new)\n",
    "    \n",
    "    else: #(방언)/(표준어) 형태의 expression이 없을 때는 원래의 문장을 바로 pre_standard에 append\n",
    "        pre_dialect.append(snts) "
   ]
  },
  {
   "cell_type": "code",
   "execution_count": 25,
   "metadata": {},
   "outputs": [],
   "source": [
    "preprocessed_train = pd.DataFrame({'standard': pre_standard, 'dialect': pre_dialect})"
   ]
  },
  {
   "cell_type": "code",
   "execution_count": 26,
   "metadata": {},
   "outputs": [
    {
     "data": {
      "text/html": [
       "<div>\n",
       "<style scoped>\n",
       "    .dataframe tbody tr th:only-of-type {\n",
       "        vertical-align: middle;\n",
       "    }\n",
       "\n",
       "    .dataframe tbody tr th {\n",
       "        vertical-align: top;\n",
       "    }\n",
       "\n",
       "    .dataframe thead th {\n",
       "        text-align: right;\n",
       "    }\n",
       "</style>\n",
       "<table border=\"1\" class=\"dataframe\">\n",
       "  <thead>\n",
       "    <tr style=\"text-align: right;\">\n",
       "      <th></th>\n",
       "      <th>standard</th>\n",
       "      <th>dialect</th>\n",
       "    </tr>\n",
       "  </thead>\n",
       "  <tbody>\n",
       "    <tr>\n",
       "      <th>0</th>\n",
       "      <td>아 예 저는 &amp;name1&amp;입니다</td>\n",
       "      <td>아 예 저는 &amp;name1&amp;입니다</td>\n",
       "    </tr>\n",
       "    <tr>\n",
       "      <th>1</th>\n",
       "      <td>저는 &amp;name2&amp;입니다</td>\n",
       "      <td>저는 &amp;name2&amp;입니다</td>\n",
       "    </tr>\n",
       "    <tr>\n",
       "      <th>2</th>\n",
       "      <td>네</td>\n",
       "      <td>네</td>\n",
       "    </tr>\n",
       "    <tr>\n",
       "      <th>3</th>\n",
       "      <td>이제 시작인가 봐</td>\n",
       "      <td>이제 시작인가 봐</td>\n",
       "    </tr>\n",
       "    <tr>\n",
       "      <th>4</th>\n",
       "      <td>어 왜 녹 녹음뜨지</td>\n",
       "      <td>어 왜 녹 녹음뜨멘</td>\n",
       "    </tr>\n",
       "    <tr>\n",
       "      <th>...</th>\n",
       "      <td>...</td>\n",
       "      <td>...</td>\n",
       "    </tr>\n",
       "    <tr>\n",
       "      <th>333797</th>\n",
       "      <td>어쨌든 다음주 중에는 빨리 식장은 결정해야겠다</td>\n",
       "      <td>어쨌든 다음주 중에는 빨리 식장은 결정해야겠다</td>\n",
       "    </tr>\n",
       "    <tr>\n",
       "      <th>333798</th>\n",
       "      <td>((xxxx))는 그냥 아예 빼버리고</td>\n",
       "      <td>((xxxx))는 그냥 아예 빼버리고</td>\n",
       "    </tr>\n",
       "    <tr>\n",
       "      <th>333799</th>\n",
       "      <td>왜? 거기(())</td>\n",
       "      <td>왜? 거기(())</td>\n",
       "    </tr>\n",
       "    <tr>\n",
       "      <th>333800</th>\n",
       "      <td>대관료가 왜 난 백만원으로 알고 있지?</td>\n",
       "      <td>대관료가 왜 난 백만원으로 알고 있지?</td>\n",
       "    </tr>\n",
       "    <tr>\n",
       "      <th>333801</th>\n",
       "      <td>백 육십 오만원. 제일 비싸 그리고 콜라 저기 음료 오빠(())</td>\n",
       "      <td>백 육십 오만원. 제일 비싸 그리고 콜라 저기 음료 오빠(())</td>\n",
       "    </tr>\n",
       "  </tbody>\n",
       "</table>\n",
       "<p>333802 rows × 2 columns</p>\n",
       "</div>"
      ],
      "text/plain": [
       "                                   standard  \\\n",
       "0                         아 예 저는 &name1&입니다   \n",
       "1                             저는 &name2&입니다   \n",
       "2                                         네   \n",
       "3                                 이제 시작인가 봐   \n",
       "4                                어 왜 녹 녹음뜨지   \n",
       "...                                     ...   \n",
       "333797            어쨌든 다음주 중에는 빨리 식장은 결정해야겠다   \n",
       "333798                 ((xxxx))는 그냥 아예 빼버리고   \n",
       "333799                            왜? 거기(())   \n",
       "333800                대관료가 왜 난 백만원으로 알고 있지?   \n",
       "333801  백 육십 오만원. 제일 비싸 그리고 콜라 저기 음료 오빠(())   \n",
       "\n",
       "                                    dialect  \n",
       "0                         아 예 저는 &name1&입니다  \n",
       "1                             저는 &name2&입니다  \n",
       "2                                         네  \n",
       "3                                 이제 시작인가 봐  \n",
       "4                                어 왜 녹 녹음뜨멘  \n",
       "...                                     ...  \n",
       "333797            어쨌든 다음주 중에는 빨리 식장은 결정해야겠다  \n",
       "333798                 ((xxxx))는 그냥 아예 빼버리고  \n",
       "333799                            왜? 거기(())  \n",
       "333800                대관료가 왜 난 백만원으로 알고 있지?  \n",
       "333801  백 육십 오만원. 제일 비싸 그리고 콜라 저기 음료 오빠(())  \n",
       "\n",
       "[333802 rows x 2 columns]"
      ]
     },
     "execution_count": 26,
     "metadata": {},
     "output_type": "execute_result"
    }
   ],
   "source": [
    "preprocessed_train"
   ]
  },
  {
   "cell_type": "code",
   "execution_count": 27,
   "metadata": {},
   "outputs": [],
   "source": [
    "preprocessed_train.to_csv(\"jeju_val_prepd.csv\", index = False, encoding = \"utf-8-sig\")"
   ]
  },
  {
   "cell_type": "code",
   "execution_count": null,
   "metadata": {},
   "outputs": [],
   "source": []
  }
 ],
 "metadata": {
  "interpreter": {
   "hash": "aee8b7b246df8f9039afb4144a1f6fd8d2ca17a180786b69acc140d282b71a49"
  },
  "kernelspec": {
   "display_name": "Python 3 (ipykernel)",
   "language": "python",
   "name": "python3"
  },
  "language_info": {
   "codemirror_mode": {
    "name": "ipython",
    "version": 3
   },
   "file_extension": ".py",
   "mimetype": "text/x-python",
   "name": "python",
   "nbconvert_exporter": "python",
   "pygments_lexer": "ipython3",
   "version": "3.10.0b3"
  }
 },
 "nbformat": 4,
 "nbformat_minor": 2
}
