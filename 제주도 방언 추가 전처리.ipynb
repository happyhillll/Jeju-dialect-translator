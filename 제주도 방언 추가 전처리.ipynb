{
 "cells": [
  {
   "cell_type": "markdown",
   "id": "74a9ae2d",
   "metadata": {},
   "source": [
    "추가전처리\n",
    "- 중복 제거\n",
    "- name, address 일괄적으로 변환 {이름}, {주소}\n",
    "- (()), ((x)), ((xxxx)) 없애기\n",
    "- 아래아 없애기 (*로 표기되어 있음. 특수기호 삭제하는 regex 사용해서 하면 됨.)"
   ]
  },
  {
   "cell_type": "code",
   "execution_count": 56,
   "id": "1229e80f",
   "metadata": {},
   "outputs": [],
   "source": [
    "import pandas as pd\n",
    "from tqdm import tqdm\n",
    "import json\n",
    "import re\n",
    "\n",
    "train = pd.read_csv(\"/Users/minjikim/Desktop/2021년 하반기 민지 휴학/하울스/제주도 방언 /jeju_train_prepd.csv\", encoding = \"utf-8\", index_col = 0)\n",
    "validation = pd.read_csv(\"/Users/minjikim/Desktop/2021년 하반기 민지 휴학/하울스/제주도 방언 /jeju_val_prepd.csv\", encoding = \"utf-8\", index_col = 0)"
   ]
  },
  {
   "cell_type": "code",
   "execution_count": 57,
   "id": "111ba299",
   "metadata": {},
   "outputs": [
    {
     "data": {
      "text/plain": [
       "296033"
      ]
     },
     "execution_count": 57,
     "metadata": {},
     "output_type": "execute_result"
    }
   ],
   "source": [
    "# 1) 중복 제거\n",
    "train = train.drop_duplicates()\n",
    "len(train) # 2,774,257개 --> 2,395,152개로 줄어듦\n",
    "\n",
    "validation = validation.drop_duplicates()\n",
    "len(validation) # 333,802개 --> 296,834개로 줄어듦"
   ]
  },
  {
   "cell_type": "code",
   "execution_count": 58,
   "id": "3f56d7a6",
   "metadata": {},
   "outputs": [
    {
     "data": {
      "text/html": [
       "<div>\n",
       "<style scoped>\n",
       "    .dataframe tbody tr th:only-of-type {\n",
       "        vertical-align: middle;\n",
       "    }\n",
       "\n",
       "    .dataframe tbody tr th {\n",
       "        vertical-align: top;\n",
       "    }\n",
       "\n",
       "    .dataframe thead th {\n",
       "        text-align: right;\n",
       "    }\n",
       "</style>\n",
       "<table border=\"1\" class=\"dataframe\">\n",
       "  <thead>\n",
       "    <tr style=\"text-align: right;\">\n",
       "      <th></th>\n",
       "      <th>dialect</th>\n",
       "    </tr>\n",
       "    <tr>\n",
       "      <th>standard</th>\n",
       "      <th></th>\n",
       "    </tr>\n",
       "  </thead>\n",
       "  <tbody>\n",
       "    <tr>\n",
       "      <th>왜냐하면 이만한 그</th>\n",
       "      <td>왜냐하면 이만한 그</td>\n",
       "    </tr>\n",
       "    <tr>\n",
       "      <th>-이만- 이만한 크기.</th>\n",
       "      <td>-이만- 이만한 크기.</td>\n",
       "    </tr>\n",
       "    <tr>\n",
       "      <th>응.</th>\n",
       "      <td>응.</td>\n",
       "    </tr>\n",
       "    <tr>\n",
       "      <th>제사 때 쓰는 거.</th>\n",
       "      <td>제사 때 쓰는 거.</td>\n",
       "    </tr>\n",
       "    <tr>\n",
       "      <th>아니 게메 저 차판 자체가 쓸 일이 많지가 않을 거 같아 #이 거기서 #이 왜냐하면</th>\n",
       "      <td>아니 게메 저 차판 자체가 쓸 일이 하지가 않을 거 닮아 이 거기서 이 왜냐하면</td>\n",
       "    </tr>\n",
       "    <tr>\n",
       "      <th>...</th>\n",
       "      <td>...</td>\n",
       "    </tr>\n",
       "    <tr>\n",
       "      <th>그 ((xx에))까지 가려 면은 일 키로도 더 될 걸 요? 이제 이 키로 넘을 거 같은데</th>\n",
       "      <td>그 ((xx에))까지 가려 면은 일 키로도 더 될 걸 마씸? 이제 이 키로 넘을 거...</td>\n",
       "    </tr>\n",
       "    <tr>\n",
       "      <th>거기서 부터 차들이 가득이야 #예</th>\n",
       "      <td>거기서 부터 차들이 가득이라 예</td>\n",
       "    </tr>\n",
       "    <tr>\n",
       "      <th>그 -양쪽- 양쪽으로 응 양쪽으로 세워버리고 하니까</th>\n",
       "      <td>그 -양쪽- 양쪽으로 응 양쪽으로 세워불고 하난</td>\n",
       "    </tr>\n",
       "    <tr>\n",
       "      <th>아이고 더 들어가고 나오는 게들 힘들어서 일부러 우리도</th>\n",
       "      <td>아이고 더 들어가고 나오는 게들 힘들어내 일부러 우리도</td>\n",
       "    </tr>\n",
       "    <tr>\n",
       "      <th>오후에 느지막이 갔거든요</th>\n",
       "      <td>오후에 느지막이 갔거든마씸</td>\n",
       "    </tr>\n",
       "  </tbody>\n",
       "</table>\n",
       "<p>2385729 rows × 1 columns</p>\n",
       "</div>"
      ],
      "text/plain": [
       "                                                                                             dialect\n",
       "standard                                                                                            \n",
       "왜냐하면 이만한 그                                                                                왜냐하면 이만한 그\n",
       "-이만- 이만한 크기.                                                                            -이만- 이만한 크기.\n",
       "응.                                                                                                응.\n",
       "제사 때 쓰는 거.                                                                                제사 때 쓰는 거.\n",
       "아니 게메 저 차판 자체가 쓸 일이 많지가 않을 거 같아 #이 거기서 #이 왜냐하면          아니 게메 저 차판 자체가 쓸 일이 하지가 않을 거 닮아 이 거기서 이 왜냐하면\n",
       "...                                                                                              ...\n",
       "그 ((xx에))까지 가려 면은 일 키로도 더 될 걸 요? 이제 이 키로 넘을 거 같은데  그 ((xx에))까지 가려 면은 일 키로도 더 될 걸 마씸? 이제 이 키로 넘을 거...\n",
       "거기서 부터 차들이 가득이야 #예                                                                 거기서 부터 차들이 가득이라 예\n",
       "그 -양쪽- 양쪽으로 응 양쪽으로 세워버리고 하니까                                              그 -양쪽- 양쪽으로 응 양쪽으로 세워불고 하난\n",
       "아이고 더 들어가고 나오는 게들 힘들어서 일부러 우리도                                        아이고 더 들어가고 나오는 게들 힘들어내 일부러 우리도\n",
       "오후에 느지막이 갔거든요                                                                         오후에 느지막이 갔거든마씸\n",
       "\n",
       "[2385729 rows x 1 columns]"
      ]
     },
     "execution_count": 58,
     "metadata": {},
     "output_type": "execute_result"
    }
   ],
   "source": [
    "train[:-5]"
   ]
  },
  {
   "cell_type": "code",
   "execution_count": 59,
   "id": "4e748bda",
   "metadata": {},
   "outputs": [
    {
     "data": {
      "text/plain": [
       "Index(['dialect'], dtype='object')"
      ]
     },
     "execution_count": 59,
     "metadata": {},
     "output_type": "execute_result"
    }
   ],
   "source": [
    "train.columns"
   ]
  },
  {
   "cell_type": "code",
   "execution_count": 60,
   "id": "02c8a147",
   "metadata": {},
   "outputs": [
    {
     "data": {
      "text/plain": [
       "1"
      ]
     },
     "execution_count": 60,
     "metadata": {},
     "output_type": "execute_result"
    }
   ],
   "source": [
    "len(train.columns)"
   ]
  },
  {
   "cell_type": "code",
   "execution_count": 40,
   "id": "1bc3e0d5",
   "metadata": {},
   "outputs": [
    {
     "name": "stderr",
     "output_type": "stream",
     "text": [
      "100%|█████████████████████████████| 2395152/2395152 [00:02<00:00, 983925.52it/s]\n"
     ]
    }
   ],
   "source": [
    "# 2) &name&, &address&를 일괄적으로 변환\n",
    "# training set 전처리\n",
    "train_stan_new = []\n",
    "for standard in tqdm(train[\"standard\"]):\n",
    "    new_sen = re.sub(\"\\&name\\d*\\&\",\"{이름}\",str(standard)) # &name&을 {이름}으로 바꾸기\n",
    "    new_sen = re.sub(\"\\&address\\d*\\&\",\"{주소}\", new_sen) # &address&을 {주소}로 바꾸기\n",
    "    train_stan_new.append(new_sen)"
   ]
  },
  {
   "cell_type": "code",
   "execution_count": 41,
   "id": "631223d0",
   "metadata": {},
   "outputs": [
    {
     "name": "stderr",
     "output_type": "stream",
     "text": [
      "100%|█████████████████████████████| 2395152/2395152 [00:02<00:00, 936519.73it/s]\n"
     ]
    }
   ],
   "source": [
    "train_dialect_new = []\n",
    "for dialect in tqdm(train[\"dialect\"]):\n",
    "    new_sen = re.sub(\"\\&name\\d*\\&\",\"{이름}\",str(dialect)) # &name&을 {이름}으로 바꾸기\n",
    "    new_sen = re.sub(\"\\&address\\d*\\&\",\"{주소}\", new_sen) # &address&을 {주소}로 바꾸기\n",
    "    train_dialect_new.append(new_sen)"
   ]
  },
  {
   "cell_type": "code",
   "execution_count": 42,
   "id": "7f69eae7",
   "metadata": {},
   "outputs": [
    {
     "name": "stderr",
     "output_type": "stream",
     "text": [
      "100%|███████████████████████████████| 296834/296834 [00:00<00:00, 921375.96it/s]\n"
     ]
    }
   ],
   "source": [
    "# validation set 전처리\n",
    "val_stan_new = []\n",
    "for standard in tqdm(validation[\"standard\"]):\n",
    "    new_sen = re.sub(\"\\&name\\d*\\&\",\"{이름}\",str(standard)) # &name&을 {이름}으로 바꾸기\n",
    "    new_sen = re.sub(\"\\&address\\d*\\&\",\"{주소}\", new_sen) # &address&을 {주소}로 바꾸기\n",
    "    val_stan_new.append(new_sen)"
   ]
  },
  {
   "cell_type": "code",
   "execution_count": 43,
   "id": "ecc3686c",
   "metadata": {},
   "outputs": [
    {
     "name": "stderr",
     "output_type": "stream",
     "text": [
      "100%|███████████████████████████████| 296834/296834 [00:00<00:00, 940175.25it/s]\n"
     ]
    }
   ],
   "source": [
    "\n",
    "val_dialect_new = []\n",
    "for dialect in tqdm(validation[\"dialect\"]):\n",
    "    new_sen = re.sub(\"\\&name\\d*\\&\",\"{이름}\",str(dialect)) # &name&을 {이름}으로 바꾸기\n",
    "    new_sen = re.sub(\"\\&address\\d*\\&\",\"{주소}\", new_sen) # &address&을 {주소}로 바꾸기\n",
    "    val_dialect_new.append(new_sen)"
   ]
  },
  {
   "cell_type": "code",
   "execution_count": null,
   "id": "30659ff3",
   "metadata": {},
   "outputs": [],
   "source": [
    "# 3. 그 외 전처리(아래아, 괄호 제거 등)\n",
    "\n",
    "# training --> train_stan_new train_dialect_new\n",
    "train_standard = []\n",
    "train_dialect = []\n",
    "for standard in tqdm(train_stan_new):\n",
    "    new_standard = re.sub(\"[^ㄱ-ㅎ ㅏ-ㅣ 가-힣]\",\"\",standard)\n",
    "    train_standard.append(new_standard)\n",
    "\n",
    "for dialect in tqdm(train_dialect_new):\n",
    "    new_dialect = re.sub(\"[^ㄱ-ㅎ ㅏ-ㅣ 가-힣]\",\"\",dialect)\n",
    "    train_dialect.append(new_dialect)\n",
    "\n",
    "#validation --> val_stan_new  val_dialect_new\n",
    "val_standard = []\n",
    "val_dialect = []\n",
    "for standard in tqdm(val_stan_new):\n",
    "    new_standard = re.sub(\"[^ㄱ-ㅎ ㅏ-ㅣ 가-힣]\",\"\",standard)\n",
    "    val_standard.append(new_standard)\n",
    "\n",
    "for dialect in tqdm(val_dialect_new):\n",
    "    new_dialect = re.sub(\"[^ㄱ-ㅎ ㅏ-ㅣ 가-힣]\",\"\",dialect)\n",
    "    val_dialect.append(new_dialect)"
   ]
  },
  {
   "cell_type": "code",
   "execution_count": null,
   "id": "4160423d",
   "metadata": {},
   "outputs": [],
   "source": [
    "\n",
    "train[\"standard\"] = train_standard\n",
    "train[\"dialect\"] = train_dialect\n",
    "\n",
    "validation[\"standard\"] = val_standard\n",
    "validation[\"dialect\"] = val_dialect\n",
    "\n",
    "# 임시로 저장\n",
    "\n",
    "# train set을 csv로 저장\n",
    "train.to_csv(\"전처리된trainset.csv\", index = False, encoding = \"utf-8-sig\")\n",
    "\n",
    "# validation set을 csv로 저장\n",
    "validation.to_csv(\"전처리된validationset.csv\", index = False, encoding = \"utf-8-sig\")"
   ]
  },
  {
   "cell_type": "code",
   "execution_count": null,
   "id": "4831da71",
   "metadata": {},
   "outputs": [],
   "source": [
    "# 링크에 있는 데이터셋을 txt파일로 저장한 후 csv형태로 바꿀 것\n",
    "import csv\n",
    "contents = []\n",
    "with open(\"another_data.txt\",\"r\",encoding = \"utf-8\") as file:\n",
    "    reader = csv.reader(file, delimiter = \"\\t\")\n",
    "    for row in file:\n",
    "        contents.append(row)\n",
    "\n",
    "contents[0] = contents[0].replace(\"\\ufeff\",\"\") # 맨 앞에 있는 글자 지우기\n",
    "contents[:10]"
   ]
  },
  {
   "cell_type": "code",
   "execution_count": null,
   "id": "fb39307a",
   "metadata": {},
   "outputs": [],
   "source": [
    "another_dialect = [] # 방언이 들어갈 빈 리스트\n",
    "another_standard = [] # 표준어가 들어갈 빈 리스트\n",
    "for content in contents:\n",
    "    content = content.replace(\"\\n\",\"\") # \\n을 없애고\n",
    "    another_dialect.append(content.split(\"\\t\")[0]) # \\t를 기준으로 왼쪽 단어는 방언\n",
    "    another_standard.append(content.split(\"\\t\")[1]) # \\t를 기준으로 오른쪽 단어는 표준어\n",
    "\n",
    "# csv로 저장\n",
    "new_jeju = pd.DataFrame()\n",
    "new_jeju[\"standard\"] = another_standard\n",
    "new_jeju[\"dialect\"] = another_dialect\n",
    "new_jeju\n",
    "new_jeju.to_csv(\"new_jeju.csv\",index = False, encoding = \"utf-8-sig\")"
   ]
  },
  {
   "cell_type": "code",
   "execution_count": null,
   "id": "46568207",
   "metadata": {},
   "outputs": [],
   "source": [
    "## 392번째 인덱스까지는 단어, 그 뒤로는 문장\n",
    "new_jeju = pd.read_csv(\"new_jeju.csv\",encoding = \"utf-8\")\n",
    "new_jeju_sen = new_jeju.iloc[392:]\n",
    "\n",
    "train_merged = train.append(new_jeju, ignore_index = True)\n",
    "train_merged\n",
    "\n",
    "train_merged.to_csv(\"train_merged.csv\",index = False, encoding = \"utf-8-sig\")"
   ]
  }
 ],
 "metadata": {
  "kernelspec": {
   "display_name": "Python 3 (ipykernel)",
   "language": "python",
   "name": "python3"
  },
  "language_info": {
   "codemirror_mode": {
    "name": "ipython",
    "version": 3
   },
   "file_extension": ".py",
   "mimetype": "text/x-python",
   "name": "python",
   "nbconvert_exporter": "python",
   "pygments_lexer": "ipython3",
   "version": "3.10.0b3"
  }
 },
 "nbformat": 4,
 "nbformat_minor": 5
}
